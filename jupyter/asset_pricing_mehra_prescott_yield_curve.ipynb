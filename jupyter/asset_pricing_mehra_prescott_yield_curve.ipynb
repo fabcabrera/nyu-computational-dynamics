{
 "cells": [
  {
   "cell_type": "markdown",
   "id": "aa29ec91",
   "metadata": {},
   "source": [
    "# Yield curve in the Mehra&ndash;Prescott economy"
   ]
  },
  {
   "cell_type": "markdown",
   "id": "0bacc39a",
   "metadata": {},
   "source": [
    "For this problem, we extend the codes from the main analysis of the Mehra&ndash;Prescott model.\n",
    "\n",
    "To quickly review, Mehra and Prescott (1985) proposed an economy with underlying uncertainty\n",
    "described by a two-state Markov chain $x_{t}$ with transition matrix\n",
    "\n",
    "\\begin{equation*}\n",
    "\\mathbf{P}=\\left[\n",
    "\\begin{array}{cc}\n",
    "\\phi  & 1-\\phi  \\\\\n",
    "1-\\phi  & \\phi\n",
    "\\end{array}%\n",
    "\\right] .\n",
    "\\end{equation*}\n",
    "\n",
    "Consumption growth is modeled as a stationary process\n",
    "\n",
    "\\begin{equation*}\n",
    "\\frac{C_{t+1}}{C_{t}}=\\exp \\left( g_{C}\\left( x_{t},x_{t+1}\\right) \\right)\n",
    "\\end{equation*}\n",
    "\n",
    "represented by the matrix $\\Gamma _{C}$ with elements\n",
    "\n",
    "\\begin{equation*}\n",
    "\\left[ \\Gamma _{C}\\right] _{ij}=\\exp \\left( g_{C}\\left(\n",
    "x_{t}=e_{i},x_{t+1}=e_{j}\\right) \\right) .\n",
    "\\end{equation*}\n",
    "\n",
    "Preferences are of the CRRA\\ form with time preference $\\beta $ and relative\n",
    "risk aversion $\\gamma $, implying the SDF of the form\n",
    "\n",
    "\\begin{equation*}\n",
    "\\frac{S_{t+1}}{S_{t}}=\\beta \\left( \\frac{C_{t+1}}{C_{t}}\\right) ^{-\\gamma\n",
    "}=\\beta \\exp \\left( -\\gamma g_{C}\\left( x_{t},x_{t+1}\\right) \\right)\n",
    "\\end{equation*}\n",
    "\n",
    "represented by the matrix $\\Gamma _{S}$ with elements\n",
    "\n",
    "\\begin{equation*}\n",
    "\\left[ \\Gamma _{S}\\right] _{ij}=\\beta \\exp \\left( -\\gamma g_{C}\\left(\n",
    "x_{t}=e_{i},x_{t+1}=e_{j}\\right) \\right) =\\beta \\left[ \\Gamma _{C}\\right]\n",
    "_{ij}^{-\\gamma }\n",
    "\\end{equation*}\n",
    "\n",
    "where the $-\\gamma $ power applies elementwise.\n",
    "\n",
    "Mehra and Precott (1985) assume that the consumption growth matrix is given by\n",
    "\n",
    "\\begin{equation*}\n",
    "\\Gamma _{C}=\\left[\n",
    "\\begin{array}{cc}\n",
    "1+\\mu +\\delta  & 1+\\mu -\\delta  \\\\\n",
    "1+\\mu +\\delta  & 1+\\mu -\\delta\n",
    "\\end{array}%\n",
    "\\right]\n",
    "\\end{equation*}\n",
    "\n",
    "so that state $e_{1}$ is the high-growth state, state $e_{2}$ is the\n",
    "low-growth state."
   ]
  },
  {
   "cell_type": "markdown",
   "id": "94e06ec4",
   "metadata": {},
   "source": [
    "## Bond prices and the yield curve\n",
    "\n",
    "A zero-coupon risk-free bond is an asset that pays one unit of the numeraire (consumption, dollars) at a pre-specified date. We can therefore denote the price of a bond that is just about to mature in the current period $t$ as\n",
    "\n",
    "$$Q^{[0]}_t = 1.$$\n",
    "\n",
    "The superindex $[0]$ denotes time to maturity. Then we can apply the recursive valuation formula: if we have the time $t+1$ price of a bond that has $T-1$ remaining period until maturity, denoted $Q^{[T-1]}_{t+1}$, then we can compute the time-$t$ price as\n",
    "\n",
    "$$Q_t^{[T]} = E_t \\left[ \\frac{S_{t+1}}{S_t} Q_{t+1}^{[T-1]} \\right].$$\n",
    "\n",
    "Notice the notation $Q_t^{[T]}$, since in period $t$, the bond has $T$ periods until maturity.\n",
    "\n",
    "The <b>yield</b> (or yield to maturity) on this bond is the average (per period) return investor earns between today and the maturity of the bond. This yield is safe because the terminal payoff at maturity is fixed. From this definition, the yield is\n",
    "\n",
    "$$y_t^{[T]} = \\frac{1}{T} \\log \\frac{1}{Q_t^{[T]}} = -\\frac{1}{T} \\log Q_t^{[T]}.$$\n",
    "\n",
    "The yield on the one-period bond (bond with maturity equal to one period) is the risk-free rate."
   ]
  },
  {
   "cell_type": "markdown",
   "id": "e74b6161",
   "metadata": {},
   "source": [
    "## Matrix implementation"
   ]
  },
  {
   "cell_type": "markdown",
   "id": "a370657d",
   "metadata": {},
   "source": [
    "Since the state follows an $n$-state Markov chain, stationary functions of the state $x_t$ can be represented as vectors of length $n$. We can therefore encode the price of a bond with maturity $T$ using a state-dependent price vector $\\mathbf{q}^{[T]}$ with entries\n",
    "\n",
    "\\begin{equation*}\n",
    "\\mathbf{q}^{[T]}_{i}=Q^{[T]}\\left( x_{t}=e_{i}\\right) .\n",
    "\\end{equation*}\n",
    "\n",
    "Using the matrix structure, the recursive valuation equation can be expressed as\n",
    "\n",
    "\\begin{equation*}\n",
    "\\mathbf{q}^{[T]}_{i}=q\\left( x_{t}=e_{i}\\right) =\\sum_{j=1}^{n}%\n",
    "\\left[ \\mathbf{P}\\right] _{ij}\\left[ \\Gamma _{S}\\right] _{ij} \\mathbf{q}^{[T-1]}_{j}.\n",
    "\\end{equation*}\n",
    "\n",
    "This can be written in compact form as\n",
    "\n",
    "\\begin{equation*}\n",
    "\\mathbf{q}^{[T]}=\\left( \\mathbf{P}\\ast \\Gamma _{S}\\right)\n",
    " \\mathbf{q}^{[T-1]}\n",
    "\\end{equation*}\n",
    "\n",
    "where $\\ast$ is the symbol for elementwise multiplication and $\\mathbf{1}$ is a vector of ones.\n",
    "\n",
    "Consequently, the yield for the bond with maturity $T$ is given by\n",
    "\n",
    "$$\\mathbf{y}^{[T]} = -\\frac{1}{T}\\log \\mathbf{q}^{[T]}.$$\n",
    "\n",
    "Plotting the yield curve in a particular state $x_t = e_i$ corresponds to plotting $\\mathbf{y}^{[T]}_i$ as a function of $T$ for the selected range of horizons."
   ]
  },
  {
   "cell_type": "markdown",
   "id": "38f8e39e",
   "metadata": {},
   "source": [
    "## Numerical implementation\n",
    "\n",
    "The numerical implementation extends the function <b>solve_Mehra_Prescott</b>."
   ]
  },
  {
   "cell_type": "code",
   "execution_count": 1,
   "id": "42e25a9e",
   "metadata": {},
   "outputs": [
    {
     "name": "stdout",
     "output_type": "stream",
     "text": [
      "Done everything.\n"
     ]
    }
   ],
   "source": [
    "# import some useful predefined functions from the course package\n",
    "from course import *"
   ]
  },
  {
   "cell_type": "markdown",
   "id": "affa39f6",
   "metadata": {},
   "source": [
    "Function that solves for asset pricing moments in the Mehra-Prescott economy."
   ]
  },
  {
   "cell_type": "code",
   "execution_count": 2,
   "id": "8ac465c7",
   "metadata": {},
   "outputs": [],
   "source": [
    "def solve_Mehra_Prescott(model):\n",
    "    \n",
    "    S = model[\"SDF\"]\n",
    "    P = model[\"P\"]\n",
    "    GAMMAG = model[\"GAMMAG\"]\n",
    "    \n",
    "    N = P.shape[0]\n",
    "    I = np.asmatrix(np.identity(N))\n",
    "    one = np.asmatrix(np.ones([N,1]))\n",
    "    \n",
    "    # first compute the unconditional stationary distribution PII (assuming it is unique)\n",
    "    # unconditional stationary distribution is the eigenvector of P' associated\n",
    "    # with eigenvalue equal to 1 (the largest eigenvalue)\n",
    "    eigval,eigvec = np.linalg.eig(P.transpose())\n",
    "    idx = np.abs(eigval).argsort()\n",
    "    eigval = eigval[idx]\n",
    "    eigvec = eigvec[:,idx]\n",
    "    PII = eigvec[:,-1] /sum( eigvec[:,-1])\n",
    "\n",
    "    # conditional gross risk-free rate (Nx1 vector)\n",
    "    Rf = 1 / (np.multiply(P,S)*one)\n",
    "    # unconditional gross risk-free rate\n",
    "    ERf = Rf.transpose()*PII\n",
    "    \n",
    "    # recursive formula for the price-dividend ratio: q =  P.*S.*G * (q + 1)\n",
    "    # solution given by\n",
    "    # q = inv(I - P.*S.*G) * (P.*S.*G)*1 = (I - P.*S.*G) \\ (P.*S.*G)*1\n",
    "    # the .* operator is the elementwise multiplication, 1 is an Nx1 vector of ones\n",
    "\n",
    "    # solution for the infinite-horizon asset only valid\n",
    "    # if P.*S.*G has eigenvalues inside the unit circle\n",
    "    M = np.multiply(np.multiply(P,S),GAMMAG)\n",
    "    eigval,eigvec = np.linalg.eig(M)\n",
    "    maxeig = max(eigval)\n",
    "\n",
    "    if (maxeig < 1):\n",
    "        # asset price (Nx1 vector)\n",
    "        q = np.linalg.inv(I - M) * (M*one)\n",
    "        # returns (NxN matrix of returns R(i,j)\n",
    "        R = np.multiply(np.multiply(np.tile(q.transpose(),[N,1]) + 1, 1 / np.tile(q,[1,N])),GAMMAG);\n",
    "        # conditional expected returns (Nx1 vector)\n",
    "        EtR = np.asmatrix(np.diag(R * P.transpose())).transpose()\n",
    "        # unconditional expected return\n",
    "        ER = EtR.transpose()*PII\n",
    "        # excess returns, realized and expected\n",
    "        Re = R - np.tile(Rf,[1,N]);\n",
    "        EtRe = EtR - Rf;\n",
    "        ERe = ER - ERf;\n",
    "    else:\n",
    "        q = np.asmatrix(np.empty([N,1]))*np.nan\n",
    "        R = np.asmatrix(np.empty([N,N]))*np.nan\n",
    "        EtR = np.asmatrix(np.empty([N,1]))*np.nan\n",
    "        ER = np.nan;\n",
    "        Re = np.asmatrix(np.empty([N,N]))*np.nan\n",
    "        EtRe = np.asmatrix(np.empty([N,1]))*np.nan\n",
    "        ERe = np.nan;\n",
    "        \n",
    "    # compute the yield curve\n",
    "    capT = 100\n",
    "    y = np.asmatrix(np.zeros([N,capT]))\n",
    "    q = np.asmatrix(np.ones([N,1]))\n",
    "    for T in range(capT):\n",
    "        q = np.multiply(P,S)*q\n",
    "        y[:,T] = -1/(T+1)*np.log(q)\n",
    "\n",
    "    sol = {\"PII\": PII, \"Rf\": Rf, \"ERf\": ERf, \"q\": q, \"R\": R, \"EtR\": EtR, \"ER\": ER, \"Re\": Re, \"EtRe\": EtRe, \"ERe\": ERe, \"y\": y}\n",
    "    return sol"
   ]
  },
  {
   "cell_type": "markdown",
   "id": "a83ec840",
   "metadata": {},
   "source": [
    "Solve a list of economies."
   ]
  },
  {
   "cell_type": "code",
   "execution_count": 3,
   "id": "69cebf3f",
   "metadata": {},
   "outputs": [],
   "source": [
    "# model specification\n",
    "model = {\"PHI\": 0.43, \"MU\": 0.018, \"DELTA\": 0.036}\n",
    "\n",
    "model[\"P\"] = np.asmatrix([[model[\"PHI\"], 1-model[\"PHI\"]], [1-model[\"PHI\"], model[\"PHI\"]]])\n",
    "model[\"GAMMAC\"] = np.asmatrix([[1+model[\"MU\"]+model[\"DELTA\"],1+model[\"MU\"]-model[\"DELTA\"]], [1+model[\"MU\"]+model[\"DELTA\"],1+model[\"MU\"]-model[\"DELTA\"]]])\n",
    "model[\"GAMMAG\"] = model[\"GAMMAC\"].copy()\n",
    "\n",
    "# define a list of economies via combinations of parameters [BETA, GAMMA]\n",
    "model_vec = [[0.99, 2], [0.96, 2], [0.99, 4]]\n",
    "yield_curves = [0] * 3\n",
    "\n",
    "for i,m in enumerate(model_vec):\n",
    "    model[\"BETA\"] = m[0]\n",
    "    model[\"GAMMA\"] = m[1]\n",
    "    model[\"SDF\"] = model[\"BETA\"] * np.power(model[\"GAMMAC\"],-model[\"GAMMA\"])\n",
    "    sol = solve_Mehra_Prescott(model)\n",
    "    yield_curves[i] = sol[\"y\"]"
   ]
  },
  {
   "cell_type": "code",
   "execution_count": 4,
   "id": "e6d21cbf",
   "metadata": {
    "scrolled": false
   },
   "outputs": [
    {
     "data": {
      "image/png": "[encoded data removed]",
      "text/plain": [
       "<Figure size 1080x432 with 2 Axes>"
      ]
     },
     "metadata": {},
     "output_type": "display_data"
    }
   ],
   "source": [
    "# display yield curve results\n",
    "capT = yield_curves[0].shape[1]\n",
    "\n",
    "param = {'figsize' : [15,6], 'fontsize': 16, 'subplots': [1,2],\n",
    "         'title': '',\n",
    "         'xlim': [0,capT], 'ylim': [0,9],\n",
    "         'xlabel': 'maturity $T$', 'ylabel': 'yield $y^{[T]}_1$',\n",
    "         'ylogscale': False,\n",
    "         'showgrid': True, 'highlightzero': False,\n",
    "         'showNBERrecessions' : False, 'showNBERrecessions_y': [0,7]}\n",
    "\n",
    "fig,ax = myGenerateTSPlot(param)\n",
    "\n",
    "ax[0,0].plot(np.linspace(1,capT,capT),np.squeeze(np.asarray(yield_curves[0][0,:]))*100,linewidth=1,marker='*',color=myColor['tolVibrantBlue'],linestyle='solid',label='$\\\\beta = ' + str(model_vec[0][0]) + '$, $\\\\gamma = ' + str(model_vec[0][1]) + ' $');\n",
    "ax[0,0].plot(np.linspace(1,capT,capT),np.squeeze(np.asarray(yield_curves[1][0,:]))*100,linewidth=1,marker='*',color=myColor['tolVibrantOrange'],linestyle='solid',label='$\\\\beta = ' + str(model_vec[1][0]) + '$, $\\\\gamma = ' + str(model_vec[1][1]) + ' $');\n",
    "ax[0,0].plot(np.linspace(1,capT,capT),np.squeeze(np.asarray(yield_curves[2][0,:]))*100,linewidth=1,marker='*',color=myColor['tolVibrantTeal'],linestyle='solid',label='$\\\\beta = ' + str(model_vec[2][0]) + '$, $\\\\gamma = ' + str(model_vec[2][1]) + ' $');\n",
    "\n",
    "ax[0,0].set_title('Yield curve for state $e_1$')\n",
    "x = ax[0,0].legend(loc=\"lower right\")\n",
    "\n",
    "ax[0,1].plot(np.linspace(1,capT,capT),np.squeeze(np.asarray(yield_curves[0][1,:]))*100,linewidth=1,marker='*',color=myColor['tolVibrantBlue'],linestyle='solid',label='$\\\\beta = ' + str(model_vec[0][0]) + '$, $\\\\gamma = ' + str(model_vec[0][1]) + ' $');\n",
    "ax[0,1].plot(np.linspace(1,capT,capT),np.squeeze(np.asarray(yield_curves[1][1,:]))*100,linewidth=1,marker='*',color=myColor['tolVibrantOrange'],linestyle='solid',label='$\\\\beta = ' + str(model_vec[1][0]) + '$, $\\\\gamma = ' + str(model_vec[1][1]) + ' $');\n",
    "ax[0,1].plot(np.linspace(1,capT,capT),np.squeeze(np.asarray(yield_curves[2][1,:]))*100,linewidth=1,marker='*',color=myColor['tolVibrantTeal'],linestyle='solid',label='$\\\\beta = ' + str(model_vec[2][0]) + '$, $\\\\gamma = ' + str(model_vec[2][1]) + ' $');\n",
    "\n",
    "ax[0,1].set_title('Yield curve for state $e_2$')\n",
    "ax[0,1].set_ylabel('yield $y^{[T]}_2$')\n",
    "x = ax[0,1].legend(loc=\"lower right\")\n",
    "\n",
    "fig.set_facecolor('#FFFFFF')\n",
    "fig.savefig('graphs/asset_pricing_mehra_prescott_yield_curves.pdf',bbox_inches='tight')"
   ]
  },
  {
   "cell_type": "markdown",
   "id": "fc79ce44",
   "metadata": {},
   "source": [
    "The left panel depicts the yield curves in alternative economies for state $x_t = e_1$ (state that predicts that low growth is more likely going into the next period, because $\\phi<0.5$, while the right panel shows yield curves for state $x_t = e_2$. Same colors depict the yield curves in the same economy.\n",
    "\n",
    "To understand the shapes of the curves, we have to understand that interest rates are determined by three forces:\n",
    "\n",
    "* <b>Time preference</b>: The higher the impatience, the higher must be the interest rates to compensate investors for saving\n",
    "\n",
    "* <b>Elasticity of substitution over time</b>: Investors dislike imbalanced consumption over time and want to smooth it out. When the economy is growing more (or agents have lower elasticity of substitution), agents want to borrow more to be able to consume more today, paying off the debt by sacrificing consumption in the future. To disincentivize this, interest rates must be higher.\n",
    "\n",
    "* <b>Risk aversion</b>: Risk-free bonds are a safe asset, so when the economy is riskier or agents more risk averse, these safe assets are more attractive, and interest rates must decrease in equilibrium to disincentivize this saving.\n",
    "\n",
    "First, focus on the baseline economy ($\\beta=0.99$, $\\gamma =2$, blue lines). When growth is expected to be low (left panel), shorter-maturity interest rates are lower than when growth is expected to be high (right panel). This is in line with the elasticity of substitution effect. When growth is expected to be high, agents want to borrow more, and to disincentivize this (in order to clear the market for the risk-free asset), interest rates must be higher to make borrowing more costly.\n",
    "\n",
    "Also notice, that while short-maturity yields fluctuate across states, long-maturity yields do not. This is a reflection of the stationarity of the economy. Over longer horizons, expected growth rate is independent on the current state.\n",
    "\n",
    "Second, the orange lines depict the effect of increasing the impatience (a decrease in $\\beta$ relative to the benchmark economy). More impatient agents would like to borrow more, so to disincentivize this in equilibrium, interest rates must increase.\n",
    "\n",
    "Third, the green lines (relative to blue lines) represent the effect of increasing the risk aversion parameter $\\gamma$. However, one has to understand that an increase in $\\gamma$ has two effects: it increases risk aversion but also decreases willingness to substitute intertemporally.\n",
    "\n",
    "The increase in risk aversion makes safe assets more attractive, which will decrease interest rates in equilibrium. The decrease in intertemporal elasticity of substitution makes agents want to borrow more, which increases interest rates in equilibrium. The latter effect dominates, so interest rates increase.\n",
    "\n",
    "There is one more notable observation to make. The Mehra and Prescott (1985) economy suffers from risk premia that are too low relatively to empirically observed values. These risk premia can increase by increasing $\\gamma$ substantially, however, we observed that this increases the risk-free rate way too much. The graph above shows another undesirable efffect of increasing risk aversion: the volatility of short-run rates (the difference in the short run rate between state $e_1$ and state $e_2$ increases substantially. However, we know that empirically, interest rates are rather smooth. So increasing risk aversion creates another puzzle: some of the models that attempt to fit risk premia generate volatility of risk-free rates that are at odds with data."
   ]
  }
 ],
 "metadata": {
  "kernelspec": {
   "display_name": "Python 3 (ipykernel)",
   "language": "python",
   "name": "python3"
  },
  "language_info": {
   "codemirror_mode": {
    "name": "ipython",
    "version": 3
   },
   "file_extension": ".py",
   "mimetype": "text/x-python",
   "name": "python",
   "nbconvert_exporter": "python",
   "pygments_lexer": "ipython3",
   "version": "3.9.12"
  }
 },
 "nbformat": 4,
 "nbformat_minor": 5
}
