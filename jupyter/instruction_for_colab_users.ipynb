{
 "cells": [
  {
   "cell_type": "code",
   "execution_count": null,
   "id": "d7f6b12d-4bdd-4674-8cba-fb0f51c86591",
   "metadata": {},
   "outputs": [],
   "source": []
  },
  {
   "cell_type": "markdown",
   "id": "05c6f110-f130-4b05-808e-8a38e1e3be79",
   "metadata": {
    "id": "dyWCAkPcg_fi"
   },
   "source": [
    "# Instructions for Colab users:\n",
    "\n",
    "How to setup the course folder for import:\n",
    "1. Option 1. \n",
    "\n",
    "  1. Uncomment the code below except for obvious lines where I am giving instructions.\n",
    "  \n",
    "  2. Download the github zip file from https://github.com/jborovicka/nyu-computational-dynamics under the green `code` button.\n",
    "  3. Unzip this folder on your computer. \n",
    "  4. Go to https://drive.google.com. Upload the course folder located inside the now unzipped nyu-computational-dynamics folder .../nyu-computational-dynamics/jupter/course to your main folder.\n",
    "  5. Run the lines below  \n",
    "\n",
    "2. Option 2 (not recommended): Click the folder icon on the left hand side. A new pane opens. Right click on the pane and select 'new folder'. Then label that folder 'course'. \n",
    "\n",
    "Go to github and download the github as a zip file, then unzip on your computer. Finally, copy all the .py files located inside .../jupyter/course/ into the pane by using the file icon with the uparrow and selecting them from your computer. Lastly click and drag those three files into the new course folder you created. You will have to repeat this process each time you start a new session\n",
    "\n"
   ]
  },
  {
   "cell_type": "code",
   "execution_count": null,
   "id": "01effedc-7e88-45d7-b71c-4553e7fff6b9",
   "metadata": {},
   "outputs": [],
   "source": [
    "# For option 1\n",
    "from google.colab import drive\n",
    "drive.mount('/content/gdrive/')\n",
    "import sys\n",
    "sys.path.append('/content/gdrive/My Drive')"
   ]
  },
  {
   "cell_type": "markdown",
   "id": "d2cefada-0bb9-4166-a0c2-8b7e2289df6c",
   "metadata": {},
   "source": [
    "Download the github code as zip, unzip and upload only the course folder to google drive! \n",
    "\n",
    "The key is course folder should be uploaded to your GOOGLE DRIVE MAIN FOLDER in drive.google.com"
   ]
  },
  {
   "cell_type": "code",
   "execution_count": null,
   "id": "4ac0cd9b-9885-46ea-9419-da30d451b0b8",
   "metadata": {},
   "outputs": [],
   "source": [
    "# import some useful predefined functions from the course package\n",
    "\n",
    "from course import *"
   ]
  }
 ],
 "metadata": {
  "kernelspec": {
   "display_name": "base",
   "language": "python",
   "name": "python3"
  },
  "language_info": {
   "codemirror_mode": {
    "name": "ipython",
    "version": 3
   },
   "file_extension": ".py",
   "mimetype": "text/x-python",
   "name": "python",
   "nbconvert_exporter": "python",
   "pygments_lexer": "ipython3",
   "version": "3.8.8"
  },
  "vscode": {
   "interpreter": {
    "hash": "31582b9feba862c420bc95ad7fac43fb721c474490d1710b4e50ac63470f9531"
   }
  }
 },
 "nbformat": 4,
 "nbformat_minor": 5
}
